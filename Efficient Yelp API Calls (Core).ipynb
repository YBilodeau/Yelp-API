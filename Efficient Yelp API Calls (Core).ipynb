{
 "cells": [
  {
   "cell_type": "markdown",
   "id": "6abebc5a",
   "metadata": {},
   "source": [
    "# **Efficient Yelp API Calls (Core)**"
   ]
  },
  {
   "cell_type": "markdown",
   "id": "4fce307a",
   "metadata": {},
   "source": [
    "For this assignment, you will be working with the Yelp API.\n",
    "\n",
    "As before, you will use the Yelp API to search your your favorite city for a cuisine type of your choice.\n",
    "\n",
    "Extract all of the results from your search and compile them into one dataframe using a for loop as shown in the lesson \"Code for Efficient API Extraction\"\n",
    "\n",
    "Save your notebook, commit the change to your repository and submit the repository URL for this assignment.\n",
    "\n"
   ]
  },
  {
   "cell_type": "markdown",
   "id": "76bde0c4",
   "metadata": {},
   "source": [
    "## **Install and import libraries**"
   ]
  },
  {
   "cell_type": "code",
   "execution_count": 1,
   "id": "dca31c4a",
   "metadata": {
    "scrolled": true
   },
   "outputs": [
    {
     "name": "stdout",
     "output_type": "stream",
     "text": [
      "Requirement already satisfied: tqdm in c:\\users\\dell\\anaconda3\\envs\\dojo-env\\lib\\site-packages (4.64.0)\n",
      "Requirement already satisfied: colorama in c:\\users\\dell\\anaconda3\\envs\\dojo-env\\lib\\site-packages (from tqdm) (0.4.4)\n"
     ]
    }
   ],
   "source": [
    "# !pip install yelpapi\n",
    "!pip install tqdm"
   ]
  },
  {
   "cell_type": "code",
   "execution_count": 2,
   "id": "74f60336",
   "metadata": {},
   "outputs": [],
   "source": [
    "# Imports\n",
    "import numpy as np\n",
    "import pandas as pd\n",
    "import matplotlib.pyplot as plt\n",
    "import seaborn as sns\n",
    "\n",
    "import os, json, math, time\n",
    "from yelpapi import YelpAPI\n",
    "from tqdm.notebook import tqdm_notebook"
   ]
  },
  {
   "cell_type": "markdown",
   "id": "1a1b66ed",
   "metadata": {},
   "source": [
    " ## **Perform test Yelp API call**"
   ]
  },
  {
   "cell_type": "code",
   "execution_count": 3,
   "id": "37d9c9bd",
   "metadata": {},
   "outputs": [
    {
     "data": {
      "text/plain": [
       "dict_keys(['client-id', 'api-key'])"
      ]
     },
     "execution_count": 3,
     "metadata": {},
     "output_type": "execute_result"
    }
   ],
   "source": [
    "# Load API Credentials\n",
    "with open('C:/Users/DELL/.secret/yelp_api.json') as f: \n",
    "    login = json.load(f)\n",
    "login.keys()"
   ]
  },
  {
   "cell_type": "code",
   "execution_count": 4,
   "id": "8bbaa6b6",
   "metadata": {
    "scrolled": true
   },
   "outputs": [
    {
     "data": {
      "text/plain": [
       "<yelpapi.yelpapi.YelpAPI at 0x283e198ce88>"
      ]
     },
     "execution_count": 4,
     "metadata": {},
     "output_type": "execute_result"
    }
   ],
   "source": [
    "# Instantiate YelpAPI instance\n",
    "yelp_api = YelpAPI(login['api-key'], timeout_s=5.0)\n",
    "yelp_api"
   ]
  },
  {
   "cell_type": "code",
   "execution_count": 5,
   "id": "2e439368",
   "metadata": {
    "scrolled": true
   },
   "outputs": [],
   "source": [
    "# Test API call\n",
    "results = yelp_api.search_query(location='Austin, TX', term='pizza')"
   ]
  },
  {
   "cell_type": "code",
   "execution_count": 6,
   "id": "bd9e32d6",
   "metadata": {
    "scrolled": true
   },
   "outputs": [
    {
     "data": {
      "text/plain": [
       "dict"
      ]
     },
     "execution_count": 6,
     "metadata": {},
     "output_type": "execute_result"
    }
   ],
   "source": [
    "# Display the datatype for the results of the API call\n",
    "type(results)"
   ]
  },
  {
   "cell_type": "code",
   "execution_count": 7,
   "id": "1e38a40b",
   "metadata": {},
   "outputs": [
    {
     "data": {
      "text/plain": [
       "dict_keys(['businesses', 'total', 'region'])"
      ]
     },
     "execution_count": 7,
     "metadata": {},
     "output_type": "execute_result"
    }
   ],
   "source": [
    "# Display the keys for the disctionary\n",
    "results.keys()"
   ]
  },
  {
   "cell_type": "markdown",
   "id": "dc166bef",
   "metadata": {},
   "source": [
    "## **Perform API Call**"
   ]
  },
  {
   "cell_type": "markdown",
   "id": "059064e5",
   "metadata": {},
   "source": [
    "### **Define Search Terms and File Paths**\n",
    "- Choose the location and search term (food), but it must return more than 20 results so you can practice pagination."
   ]
  },
  {
   "cell_type": "code",
   "execution_count": 8,
   "id": "0e271d6e",
   "metadata": {},
   "outputs": [],
   "source": [
    "# Set our API call parameters\n",
    "LOCATION = \"Austin, TX 78729\"\n",
    "TERM = \"vietnamese\""
   ]
  },
  {
   "cell_type": "code",
   "execution_count": 9,
   "id": "d2a68ffc",
   "metadata": {},
   "outputs": [],
   "source": [
    "# Specify folder for saving data\n",
    "FOLDER = \"Data/\"\n",
    "os.makedirs(FOLDER , exist_ok=True)"
   ]
  },
  {
   "cell_type": "code",
   "execution_count": 10,
   "id": "fff39f8a",
   "metadata": {},
   "outputs": [
    {
     "data": {
      "text/plain": [
       "'Austin'"
      ]
     },
     "execution_count": 10,
     "metadata": {},
     "output_type": "execute_result"
    }
   ],
   "source": [
    "# Obtain the city from the location\n",
    "CITY = LOCATION.split(',')[0]"
   ]
  },
  {
   "cell_type": "code",
   "execution_count": 11,
   "id": "7ec3f5e7",
   "metadata": {},
   "outputs": [
    {
     "data": {
      "text/plain": [
       "'Data/vietnamese_Austin.json'"
      ]
     },
     "execution_count": 11,
     "metadata": {},
     "output_type": "execute_result"
    }
   ],
   "source": [
    "# Specifying JSON_FILE filename (can include a folder)\n",
    "JSON_FILE = f\"{FOLDER}{TERM}_{CITY}.json\"\n",
    "JSON_FILE"
   ]
  },
  {
   "cell_type": "markdown",
   "id": "5bd430e9",
   "metadata": {},
   "source": [
    "### **Check if JSON file exists and create it if it doesn't**"
   ]
  },
  {
   "cell_type": "code",
   "execution_count": 12,
   "id": "66f37a4a",
   "metadata": {},
   "outputs": [
    {
     "data": {
      "text/plain": [
       "'Data'"
      ]
     },
     "execution_count": 12,
     "metadata": {},
     "output_type": "execute_result"
    }
   ],
   "source": [
    "# Display the directory name of the JSON file\n",
    "os.path.dirname(JSON_FILE)"
   ]
  },
  {
   "cell_type": "code",
   "execution_count": 13,
   "id": "400f2103",
   "metadata": {},
   "outputs": [
    {
     "name": "stdout",
     "output_type": "stream",
     "text": [
      "[i] Data/vietnamese_Austin.json not found. Saving empty list to file.\n"
     ]
    }
   ],
   "source": [
    "# Check if JSON_FILE exists\n",
    "file_exists = os.path.isfile(JSON_FILE)\n",
    "# If it does not exist: \n",
    "if file_exists == False:\n",
    "    # Create any needed folders\n",
    "    # Get the folder name\n",
    "    folder = os.path.dirname(JSON_FILE)\n",
    "    # If JSON_FILE included a folder:\n",
    "    if len(folder)>0:\n",
    "        # create the folder\n",
    "        os.makedirs(folder,exist_ok=True)   \n",
    "    # Inform the user\n",
    "    print(f\"[i] {JSON_FILE} not found. Saving empty list to file.\")\n",
    "    # saving empty list\n",
    "    with open(JSON_FILE,'w') as f:\n",
    "        json.dump([], f)\n",
    "# Advise if the file already exists\n",
    "else:\n",
    "    print(f\"[i] {JSON_FILE} already exists.\")"
   ]
  },
  {
   "cell_type": "markdown",
   "id": "e328ca2c",
   "metadata": {},
   "source": [
    "### **Load JSON FIle and account for previous results**"
   ]
  },
  {
   "cell_type": "code",
   "execution_count": 14,
   "id": "4d91a1c8",
   "metadata": {},
   "outputs": [
    {
     "name": "stdout",
     "output_type": "stream",
     "text": [
      "- 0 previous results found.\n"
     ]
    }
   ],
   "source": [
    "# Load previous results and use len of results for offset\n",
    "with open(JSON_FILE,'r') as f:\n",
    "    previous_results = json.load(f)\n",
    "\n",
    "# Display the number of previous results\n",
    "n_results = len(previous_results)\n",
    "print(f'- {n_results} previous results found.')"
   ]
  },
  {
   "cell_type": "markdown",
   "id": "e392fb41",
   "metadata": {},
   "source": [
    "### **Make a test API call to obtain the first page of data**"
   ]
  },
  {
   "cell_type": "code",
   "execution_count": 15,
   "id": "8c2d68e1",
   "metadata": {},
   "outputs": [],
   "source": [
    "# Use our yelp_api variable's search_query method to perform our API call\n",
    "results = yelp_api.search_query(term=TERM, location=LOCATION)"
   ]
  },
  {
   "cell_type": "code",
   "execution_count": 16,
   "id": "f7dddab8",
   "metadata": {},
   "outputs": [
    {
     "data": {
      "text/plain": [
       "dict_keys(['businesses', 'total', 'region'])"
      ]
     },
     "execution_count": 16,
     "metadata": {},
     "output_type": "execute_result"
    }
   ],
   "source": [
    "# Display the keys from the API call\n",
    "results.keys()"
   ]
  },
  {
   "cell_type": "code",
   "execution_count": 17,
   "id": "d0829441",
   "metadata": {},
   "outputs": [
    {
     "data": {
      "text/plain": [
       "96"
      ]
     },
     "execution_count": 17,
     "metadata": {},
     "output_type": "execute_result"
    }
   ],
   "source": [
    "# Display the total number of results\n",
    "results['total']"
   ]
  },
  {
   "cell_type": "code",
   "execution_count": 18,
   "id": "7f7ce3f2",
   "metadata": {},
   "outputs": [
    {
     "data": {
      "text/plain": [
       "list"
      ]
     },
     "execution_count": 18,
     "metadata": {},
     "output_type": "execute_result"
    }
   ],
   "source": [
    "# Display the businesses datatype\n",
    "type(results['businesses'])"
   ]
  },
  {
   "cell_type": "code",
   "execution_count": 19,
   "id": "6f314c3e",
   "metadata": {},
   "outputs": [
    {
     "data": {
      "text/plain": [
       "20"
      ]
     },
     "execution_count": 19,
     "metadata": {},
     "output_type": "execute_result"
    }
   ],
   "source": [
    "# Calculate the number of results per page \n",
    "results_per_page = len(results['businesses'])\n",
    "# Display the number of results per page  \n",
    "results_per_page"
   ]
  },
  {
   "cell_type": "code",
   "execution_count": 20,
   "id": "92f28438",
   "metadata": {},
   "outputs": [
    {
     "data": {
      "text/plain": [
       "5"
      ]
     },
     "execution_count": 20,
     "metadata": {},
     "output_type": "execute_result"
    }
   ],
   "source": [
    "# Calculate how many pages of results needed to cover the total_results\n",
    "# Use math.ceil to round up for the total number of pages of results.\n",
    "n_pages = math.ceil(results['total'] / results_per_page)\n",
    "n_pages"
   ]
  },
  {
   "cell_type": "markdown",
   "id": "2df35156",
   "metadata": {},
   "source": [
    "### **Create a JSON file from the results of API calls**"
   ]
  },
  {
   "cell_type": "code",
   "execution_count": 21,
   "id": "b7b180f5",
   "metadata": {},
   "outputs": [
    {
     "data": {
      "application/vnd.jupyter.widget-view+json": {
       "model_id": "60cad9fe6e5e4c8db4d072d605b58e90",
       "version_major": 2,
       "version_minor": 0
      },
      "text/plain": [
       "  0%|          | 0/6 [00:00<?, ?it/s]"
      ]
     },
     "metadata": {},
     "output_type": "display_data"
    }
   ],
   "source": [
    "# Loop through pages and append API call results to the JSON file\n",
    "for i in tqdm_notebook(range(0, n_pages+1)):\n",
    "    try:\n",
    "        time.sleep(.2)\n",
    "        # Load JSON file\n",
    "        with open(JSON_FILE,'r') as f:\n",
    "            previous_results = json.load(f)\n",
    "        # Obtain current number of results in JSON file\n",
    "        n_results = len(previous_results)\n",
    "        # Obtain next page of results\n",
    "        results = yelp_api.search_query(term=TERM, \n",
    "                                        location=LOCATION,\n",
    "                                        offset=n_results+1)\n",
    "        # Append this page of results and save to file\n",
    "        previous_results.extend( results['businesses'])\n",
    "        with open(JSON_FILE,'w') as f:\n",
    "            json.dump(previous_results, f)\n",
    "    # If there is an error exception, print the error message and break\n",
    "    except Exception as e:\n",
    "        print(e)\n",
    "        break"
   ]
  },
  {
   "cell_type": "markdown",
   "id": "160312c4",
   "metadata": {},
   "source": [
    "## **Save results as JSON and CSV files**"
   ]
  },
  {
   "cell_type": "code",
   "execution_count": 22,
   "id": "df2e174b",
   "metadata": {
    "scrolled": true
   },
   "outputs": [
    {
     "data": {
      "text/html": [
       "<div>\n",
       "<style scoped>\n",
       "    .dataframe tbody tr th:only-of-type {\n",
       "        vertical-align: middle;\n",
       "    }\n",
       "\n",
       "    .dataframe tbody tr th {\n",
       "        vertical-align: top;\n",
       "    }\n",
       "\n",
       "    .dataframe thead th {\n",
       "        text-align: right;\n",
       "    }\n",
       "</style>\n",
       "<table border=\"1\" class=\"dataframe\">\n",
       "  <thead>\n",
       "    <tr style=\"text-align: right;\">\n",
       "      <th></th>\n",
       "      <th>id</th>\n",
       "      <th>alias</th>\n",
       "      <th>name</th>\n",
       "      <th>image_url</th>\n",
       "      <th>is_closed</th>\n",
       "      <th>url</th>\n",
       "      <th>review_count</th>\n",
       "      <th>categories</th>\n",
       "      <th>rating</th>\n",
       "      <th>coordinates</th>\n",
       "      <th>transactions</th>\n",
       "      <th>price</th>\n",
       "      <th>location</th>\n",
       "      <th>phone</th>\n",
       "      <th>display_phone</th>\n",
       "      <th>distance</th>\n",
       "    </tr>\n",
       "  </thead>\n",
       "  <tbody>\n",
       "    <tr>\n",
       "      <th>0</th>\n",
       "      <td>dv2xeItylQRjUEtxNsKBYw</td>\n",
       "      <td>pho-hoang-austin-5</td>\n",
       "      <td>Pho Hoang</td>\n",
       "      <td>https://s3-media2.fl.yelpcdn.com/bphoto/AWlijk...</td>\n",
       "      <td>False</td>\n",
       "      <td>https://www.yelp.com/biz/pho-hoang-austin-5?ad...</td>\n",
       "      <td>295</td>\n",
       "      <td>[{'alias': 'vietnamese', 'title': 'Vietnamese'...</td>\n",
       "      <td>4.0</td>\n",
       "      <td>{'latitude': 30.4791179, 'longitude': -97.6782...</td>\n",
       "      <td>[delivery, pickup]</td>\n",
       "      <td>$$</td>\n",
       "      <td>{'address1': '399 W Louis Henna Blvd', 'addres...</td>\n",
       "      <td>+15122388008</td>\n",
       "      <td>(512) 238-8008</td>\n",
       "      <td>8004.906445</td>\n",
       "    </tr>\n",
       "    <tr>\n",
       "      <th>1</th>\n",
       "      <td>PgcB9iS3YFOZ1Evm3ResAw</td>\n",
       "      <td>pho-thanh-nhi-cedar-park-4</td>\n",
       "      <td>Pho Thanh Nhi</td>\n",
       "      <td>https://s3-media4.fl.yelpcdn.com/bphoto/HSaU0C...</td>\n",
       "      <td>False</td>\n",
       "      <td>https://www.yelp.com/biz/pho-thanh-nhi-cedar-p...</td>\n",
       "      <td>246</td>\n",
       "      <td>[{'alias': 'vietnamese', 'title': 'Vietnamese'...</td>\n",
       "      <td>4.0</td>\n",
       "      <td>{'latitude': 30.5299005202406, 'longitude': -9...</td>\n",
       "      <td>[delivery]</td>\n",
       "      <td>$$</td>\n",
       "      <td>{'address1': '1335 E Whitestone Blvd', 'addres...</td>\n",
       "      <td>+15122606363</td>\n",
       "      <td>(512) 260-6363</td>\n",
       "      <td>9855.999080</td>\n",
       "    </tr>\n",
       "    <tr>\n",
       "      <th>2</th>\n",
       "      <td>kV7bogiloOEgYSr_bU5VLw</td>\n",
       "      <td>sunflower-vietnamese-cuisine-austin</td>\n",
       "      <td>Sunflower Vietnamese Cuisine</td>\n",
       "      <td>https://s3-media4.fl.yelpcdn.com/bphoto/niGZq4...</td>\n",
       "      <td>False</td>\n",
       "      <td>https://www.yelp.com/biz/sunflower-vietnamese-...</td>\n",
       "      <td>65</td>\n",
       "      <td>[{'alias': 'vietnamese', 'title': 'Vietnamese'...</td>\n",
       "      <td>4.5</td>\n",
       "      <td>{'latitude': 30.44159719662341, 'longitude': -...</td>\n",
       "      <td>[]</td>\n",
       "      <td>$$</td>\n",
       "      <td>{'address1': '6001 W Parmer Ln', 'address2': '...</td>\n",
       "      <td>+15122916749</td>\n",
       "      <td>(512) 291-6749</td>\n",
       "      <td>1973.028364</td>\n",
       "    </tr>\n",
       "    <tr>\n",
       "      <th>3</th>\n",
       "      <td>3yv-AArdULfZmXiEWN5FHw</td>\n",
       "      <td>pho-phi-austin-3</td>\n",
       "      <td>Pho Phi</td>\n",
       "      <td>https://s3-media2.fl.yelpcdn.com/bphoto/THD99V...</td>\n",
       "      <td>False</td>\n",
       "      <td>https://www.yelp.com/biz/pho-phi-austin-3?adju...</td>\n",
       "      <td>351</td>\n",
       "      <td>[{'alias': 'vietnamese', 'title': 'Vietnamese'...</td>\n",
       "      <td>4.0</td>\n",
       "      <td>{'latitude': 30.41432985890226, 'longitude': -...</td>\n",
       "      <td>[delivery, pickup]</td>\n",
       "      <td>$$</td>\n",
       "      <td>{'address1': '1700 W Parmer Ln', 'address2': '...</td>\n",
       "      <td>+15125962746</td>\n",
       "      <td>(512) 596-2746</td>\n",
       "      <td>8032.840120</td>\n",
       "    </tr>\n",
       "    <tr>\n",
       "      <th>4</th>\n",
       "      <td>Ck14Bt1fEY2UYZykyyJQ3Q</td>\n",
       "      <td>banh-mi-galang-austin</td>\n",
       "      <td>Banh Mi Galang</td>\n",
       "      <td>https://s3-media2.fl.yelpcdn.com/bphoto/nFUnEp...</td>\n",
       "      <td>False</td>\n",
       "      <td>https://www.yelp.com/biz/banh-mi-galang-austin...</td>\n",
       "      <td>62</td>\n",
       "      <td>[{'alias': 'vietnamese', 'title': 'Vietnamese'...</td>\n",
       "      <td>4.0</td>\n",
       "      <td>{'latitude': 30.479747760604138, 'longitude': ...</td>\n",
       "      <td>[delivery, pickup]</td>\n",
       "      <td>NaN</td>\n",
       "      <td>{'address1': '11301 Lakeline Blvd', 'address2'...</td>\n",
       "      <td>+15125848391</td>\n",
       "      <td>(512) 584-8391</td>\n",
       "      <td>4853.009782</td>\n",
       "    </tr>\n",
       "    <tr>\n",
       "      <th>...</th>\n",
       "      <td>...</td>\n",
       "      <td>...</td>\n",
       "      <td>...</td>\n",
       "      <td>...</td>\n",
       "      <td>...</td>\n",
       "      <td>...</td>\n",
       "      <td>...</td>\n",
       "      <td>...</td>\n",
       "      <td>...</td>\n",
       "      <td>...</td>\n",
       "      <td>...</td>\n",
       "      <td>...</td>\n",
       "      <td>...</td>\n",
       "      <td>...</td>\n",
       "      <td>...</td>\n",
       "      <td>...</td>\n",
       "    </tr>\n",
       "    <tr>\n",
       "      <th>90</th>\n",
       "      <td>LKoYVqQyWJbIaC2UkDMynw</td>\n",
       "      <td>sichuan-garden-round-rock</td>\n",
       "      <td>Sichuan Garden</td>\n",
       "      <td>https://s3-media3.fl.yelpcdn.com/bphoto/7SKII8...</td>\n",
       "      <td>False</td>\n",
       "      <td>https://www.yelp.com/biz/sichuan-garden-round-...</td>\n",
       "      <td>268</td>\n",
       "      <td>[{'alias': 'szechuan', 'title': 'Szechuan'}, {...</td>\n",
       "      <td>3.5</td>\n",
       "      <td>{'latitude': 30.5084141256793, 'longitude': -9...</td>\n",
       "      <td>[delivery]</td>\n",
       "      <td>$$</td>\n",
       "      <td>{'address1': '110 I H 35 N', 'address2': 'Ste ...</td>\n",
       "      <td>+15122556952</td>\n",
       "      <td>(512) 255-6952</td>\n",
       "      <td>8857.117003</td>\n",
       "    </tr>\n",
       "    <tr>\n",
       "      <th>91</th>\n",
       "      <td>jWz0NBCz5Ya2OSyeRNbI1w</td>\n",
       "      <td>masala-wok-austin-2</td>\n",
       "      <td>Masala Wok</td>\n",
       "      <td>https://s3-media3.fl.yelpcdn.com/bphoto/eliiIU...</td>\n",
       "      <td>False</td>\n",
       "      <td>https://www.yelp.com/biz/masala-wok-austin-2?a...</td>\n",
       "      <td>357</td>\n",
       "      <td>[{'alias': 'indpak', 'title': 'Indian'}, {'ali...</td>\n",
       "      <td>3.5</td>\n",
       "      <td>{'latitude': 30.388905158257543, 'longitude': ...</td>\n",
       "      <td>[delivery, pickup]</td>\n",
       "      <td>$$</td>\n",
       "      <td>{'address1': '10515 N Mopac Expy', 'address2':...</td>\n",
       "      <td>+15122962977</td>\n",
       "      <td>(512) 296-2977</td>\n",
       "      <td>7830.367277</td>\n",
       "    </tr>\n",
       "    <tr>\n",
       "      <th>92</th>\n",
       "      <td>VJj_xjjWX_UHaFNL91_Duw</td>\n",
       "      <td>masala-wok-austin</td>\n",
       "      <td>Masala Wok</td>\n",
       "      <td>https://s3-media2.fl.yelpcdn.com/bphoto/p21fkZ...</td>\n",
       "      <td>False</td>\n",
       "      <td>https://www.yelp.com/biz/masala-wok-austin?adj...</td>\n",
       "      <td>315</td>\n",
       "      <td>[{'alias': 'indpak', 'title': 'Indian'}, {'ali...</td>\n",
       "      <td>3.5</td>\n",
       "      <td>{'latitude': 30.41804, 'longitude': -97.67123}</td>\n",
       "      <td>[delivery, pickup]</td>\n",
       "      <td>$</td>\n",
       "      <td>{'address1': '1100 Center Ridge Dr', 'address2...</td>\n",
       "      <td>+15122519696</td>\n",
       "      <td>(512) 251-9696</td>\n",
       "      <td>9222.945104</td>\n",
       "    </tr>\n",
       "    <tr>\n",
       "      <th>93</th>\n",
       "      <td>hrDUqL02tA-6lnnopguEyg</td>\n",
       "      <td>teapioca-lounge-austin-5</td>\n",
       "      <td>Teapioca Lounge</td>\n",
       "      <td>https://s3-media1.fl.yelpcdn.com/bphoto/0WkTIn...</td>\n",
       "      <td>False</td>\n",
       "      <td>https://www.yelp.com/biz/teapioca-lounge-austi...</td>\n",
       "      <td>89</td>\n",
       "      <td>[{'alias': 'coffee', 'title': 'Coffee &amp; Tea'},...</td>\n",
       "      <td>3.5</td>\n",
       "      <td>{'latitude': 30.391071, 'longitude': -97.7487887}</td>\n",
       "      <td>[delivery]</td>\n",
       "      <td>$</td>\n",
       "      <td>{'address1': '10000 Research Blvd', 'address2'...</td>\n",
       "      <td>+15128383656</td>\n",
       "      <td>(512) 838-3656</td>\n",
       "      <td>7273.501896</td>\n",
       "    </tr>\n",
       "    <tr>\n",
       "      <th>94</th>\n",
       "      <td>mjZUbhYYlhoXGofnzXU1TQ</td>\n",
       "      <td>subway-round-rock-16</td>\n",
       "      <td>Subway</td>\n",
       "      <td>https://s3-media2.fl.yelpcdn.com/bphoto/orcENm...</td>\n",
       "      <td>False</td>\n",
       "      <td>https://www.yelp.com/biz/subway-round-rock-16?...</td>\n",
       "      <td>22</td>\n",
       "      <td>[{'alias': 'sandwiches', 'title': 'Sandwiches'}]</td>\n",
       "      <td>2.5</td>\n",
       "      <td>{'latitude': 30.482374260158903, 'longitude': ...</td>\n",
       "      <td>[delivery, pickup]</td>\n",
       "      <td>$</td>\n",
       "      <td>{'address1': '2601 S Ih 35', 'address2': 'Ste ...</td>\n",
       "      <td>+15123887827</td>\n",
       "      <td>(512) 388-7827</td>\n",
       "      <td>8902.592104</td>\n",
       "    </tr>\n",
       "  </tbody>\n",
       "</table>\n",
       "<p>95 rows × 16 columns</p>\n",
       "</div>"
      ],
      "text/plain": [
       "                        id                                alias  \\\n",
       "0   dv2xeItylQRjUEtxNsKBYw                   pho-hoang-austin-5   \n",
       "1   PgcB9iS3YFOZ1Evm3ResAw           pho-thanh-nhi-cedar-park-4   \n",
       "2   kV7bogiloOEgYSr_bU5VLw  sunflower-vietnamese-cuisine-austin   \n",
       "3   3yv-AArdULfZmXiEWN5FHw                     pho-phi-austin-3   \n",
       "4   Ck14Bt1fEY2UYZykyyJQ3Q                banh-mi-galang-austin   \n",
       "..                     ...                                  ...   \n",
       "90  LKoYVqQyWJbIaC2UkDMynw            sichuan-garden-round-rock   \n",
       "91  jWz0NBCz5Ya2OSyeRNbI1w                  masala-wok-austin-2   \n",
       "92  VJj_xjjWX_UHaFNL91_Duw                    masala-wok-austin   \n",
       "93  hrDUqL02tA-6lnnopguEyg             teapioca-lounge-austin-5   \n",
       "94  mjZUbhYYlhoXGofnzXU1TQ                 subway-round-rock-16   \n",
       "\n",
       "                            name  \\\n",
       "0                      Pho Hoang   \n",
       "1                  Pho Thanh Nhi   \n",
       "2   Sunflower Vietnamese Cuisine   \n",
       "3                        Pho Phi   \n",
       "4                 Banh Mi Galang   \n",
       "..                           ...   \n",
       "90                Sichuan Garden   \n",
       "91                    Masala Wok   \n",
       "92                    Masala Wok   \n",
       "93               Teapioca Lounge   \n",
       "94                        Subway   \n",
       "\n",
       "                                            image_url  is_closed  \\\n",
       "0   https://s3-media2.fl.yelpcdn.com/bphoto/AWlijk...      False   \n",
       "1   https://s3-media4.fl.yelpcdn.com/bphoto/HSaU0C...      False   \n",
       "2   https://s3-media4.fl.yelpcdn.com/bphoto/niGZq4...      False   \n",
       "3   https://s3-media2.fl.yelpcdn.com/bphoto/THD99V...      False   \n",
       "4   https://s3-media2.fl.yelpcdn.com/bphoto/nFUnEp...      False   \n",
       "..                                                ...        ...   \n",
       "90  https://s3-media3.fl.yelpcdn.com/bphoto/7SKII8...      False   \n",
       "91  https://s3-media3.fl.yelpcdn.com/bphoto/eliiIU...      False   \n",
       "92  https://s3-media2.fl.yelpcdn.com/bphoto/p21fkZ...      False   \n",
       "93  https://s3-media1.fl.yelpcdn.com/bphoto/0WkTIn...      False   \n",
       "94  https://s3-media2.fl.yelpcdn.com/bphoto/orcENm...      False   \n",
       "\n",
       "                                                  url  review_count  \\\n",
       "0   https://www.yelp.com/biz/pho-hoang-austin-5?ad...           295   \n",
       "1   https://www.yelp.com/biz/pho-thanh-nhi-cedar-p...           246   \n",
       "2   https://www.yelp.com/biz/sunflower-vietnamese-...            65   \n",
       "3   https://www.yelp.com/biz/pho-phi-austin-3?adju...           351   \n",
       "4   https://www.yelp.com/biz/banh-mi-galang-austin...            62   \n",
       "..                                                ...           ...   \n",
       "90  https://www.yelp.com/biz/sichuan-garden-round-...           268   \n",
       "91  https://www.yelp.com/biz/masala-wok-austin-2?a...           357   \n",
       "92  https://www.yelp.com/biz/masala-wok-austin?adj...           315   \n",
       "93  https://www.yelp.com/biz/teapioca-lounge-austi...            89   \n",
       "94  https://www.yelp.com/biz/subway-round-rock-16?...            22   \n",
       "\n",
       "                                           categories  rating  \\\n",
       "0   [{'alias': 'vietnamese', 'title': 'Vietnamese'...     4.0   \n",
       "1   [{'alias': 'vietnamese', 'title': 'Vietnamese'...     4.0   \n",
       "2   [{'alias': 'vietnamese', 'title': 'Vietnamese'...     4.5   \n",
       "3   [{'alias': 'vietnamese', 'title': 'Vietnamese'...     4.0   \n",
       "4   [{'alias': 'vietnamese', 'title': 'Vietnamese'...     4.0   \n",
       "..                                                ...     ...   \n",
       "90  [{'alias': 'szechuan', 'title': 'Szechuan'}, {...     3.5   \n",
       "91  [{'alias': 'indpak', 'title': 'Indian'}, {'ali...     3.5   \n",
       "92  [{'alias': 'indpak', 'title': 'Indian'}, {'ali...     3.5   \n",
       "93  [{'alias': 'coffee', 'title': 'Coffee & Tea'},...     3.5   \n",
       "94   [{'alias': 'sandwiches', 'title': 'Sandwiches'}]     2.5   \n",
       "\n",
       "                                          coordinates        transactions  \\\n",
       "0   {'latitude': 30.4791179, 'longitude': -97.6782...  [delivery, pickup]   \n",
       "1   {'latitude': 30.5299005202406, 'longitude': -9...          [delivery]   \n",
       "2   {'latitude': 30.44159719662341, 'longitude': -...                  []   \n",
       "3   {'latitude': 30.41432985890226, 'longitude': -...  [delivery, pickup]   \n",
       "4   {'latitude': 30.479747760604138, 'longitude': ...  [delivery, pickup]   \n",
       "..                                                ...                 ...   \n",
       "90  {'latitude': 30.5084141256793, 'longitude': -9...          [delivery]   \n",
       "91  {'latitude': 30.388905158257543, 'longitude': ...  [delivery, pickup]   \n",
       "92     {'latitude': 30.41804, 'longitude': -97.67123}  [delivery, pickup]   \n",
       "93  {'latitude': 30.391071, 'longitude': -97.7487887}          [delivery]   \n",
       "94  {'latitude': 30.482374260158903, 'longitude': ...  [delivery, pickup]   \n",
       "\n",
       "   price                                           location         phone  \\\n",
       "0     $$  {'address1': '399 W Louis Henna Blvd', 'addres...  +15122388008   \n",
       "1     $$  {'address1': '1335 E Whitestone Blvd', 'addres...  +15122606363   \n",
       "2     $$  {'address1': '6001 W Parmer Ln', 'address2': '...  +15122916749   \n",
       "3     $$  {'address1': '1700 W Parmer Ln', 'address2': '...  +15125962746   \n",
       "4    NaN  {'address1': '11301 Lakeline Blvd', 'address2'...  +15125848391   \n",
       "..   ...                                                ...           ...   \n",
       "90    $$  {'address1': '110 I H 35 N', 'address2': 'Ste ...  +15122556952   \n",
       "91    $$  {'address1': '10515 N Mopac Expy', 'address2':...  +15122962977   \n",
       "92     $  {'address1': '1100 Center Ridge Dr', 'address2...  +15122519696   \n",
       "93     $  {'address1': '10000 Research Blvd', 'address2'...  +15128383656   \n",
       "94     $  {'address1': '2601 S Ih 35', 'address2': 'Ste ...  +15123887827   \n",
       "\n",
       "     display_phone     distance  \n",
       "0   (512) 238-8008  8004.906445  \n",
       "1   (512) 260-6363  9855.999080  \n",
       "2   (512) 291-6749  1973.028364  \n",
       "3   (512) 596-2746  8032.840120  \n",
       "4   (512) 584-8391  4853.009782  \n",
       "..             ...          ...  \n",
       "90  (512) 255-6952  8857.117003  \n",
       "91  (512) 296-2977  7830.367277  \n",
       "92  (512) 251-9696  9222.945104  \n",
       "93  (512) 838-3656  7273.501896  \n",
       "94  (512) 388-7827  8902.592104  \n",
       "\n",
       "[95 rows x 16 columns]"
      ]
     },
     "execution_count": 22,
     "metadata": {},
     "output_type": "execute_result"
    }
   ],
   "source": [
    "# Creat a dataframe for the JSON file\n",
    "df = pd.read_json(JSON_FILE)\n",
    "# View head and tail of dataframe\n",
    "df"
   ]
  },
  {
   "cell_type": "code",
   "execution_count": 23,
   "id": "937e5804",
   "metadata": {},
   "outputs": [
    {
     "data": {
      "text/plain": [
       "0"
      ]
     },
     "execution_count": 23,
     "metadata": {},
     "output_type": "execute_result"
    }
   ],
   "source": [
    "df.duplicated(subset='id').sum()"
   ]
  },
  {
   "cell_type": "code",
   "execution_count": 24,
   "id": "f661f2e9",
   "metadata": {},
   "outputs": [
    {
     "data": {
      "text/plain": [
       "'Data/vietnamese_Austin.csv.gz'"
      ]
     },
     "execution_count": 24,
     "metadata": {},
     "output_type": "execute_result"
    }
   ],
   "source": [
    "# Convert the filename to a .csv.gz\n",
    "csv_file = JSON_FILE.replace('.json','.csv.gz')\n",
    "# Display the file name\n",
    "csv_file"
   ]
  },
  {
   "cell_type": "code",
   "execution_count": 25,
   "id": "97c150cb",
   "metadata": {},
   "outputs": [],
   "source": [
    "# Save it as a compressed csv (to save space)\n",
    "df.to_csv(csv_file, compression='gzip', index=False)"
   ]
  },
  {
   "cell_type": "markdown",
   "id": "ff61bbfe",
   "metadata": {},
   "source": [
    "### **Compare JSON and CSV_GZ filesizes**"
   ]
  },
  {
   "cell_type": "code",
   "execution_count": 26,
   "id": "dbcc45e9",
   "metadata": {},
   "outputs": [
    {
     "name": "stdout",
     "output_type": "stream",
     "text": [
      "JSON FILE: 93,601 Bytes\n",
      "CSV.GZ FILE: 13,975 Bytes\n",
      "the csv.gz is 6.70 times smaller!\n"
     ]
    }
   ],
   "source": [
    "size_json = os.path.getsize(JSON_FILE)\n",
    "size_csv_gz = os.path.getsize(csv_file)\n",
    "\n",
    "print(f'JSON FILE: {size_json:,} Bytes')\n",
    "print(f'CSV.GZ FILE: {size_csv_gz:,} Bytes')\n",
    "print('\\n')\n",
    "print(f'The csv.gz is {size_json/size_csv_gz:.2f} times smaller!')"
   ]
  }
 ],
 "metadata": {
  "kernelspec": {
   "display_name": "Python (dojo-env)",
   "language": "python",
   "name": "dojo-env"
  },
  "language_info": {
   "codemirror_mode": {
    "name": "ipython",
    "version": 3
   },
   "file_extension": ".py",
   "mimetype": "text/x-python",
   "name": "python",
   "nbconvert_exporter": "python",
   "pygments_lexer": "ipython3",
   "version": "3.7.12"
  },
  "toc": {
   "base_numbering": 1,
   "nav_menu": {},
   "number_sections": true,
   "sideBar": true,
   "skip_h1_title": false,
   "title_cell": "Table of Contents",
   "title_sidebar": "Contents",
   "toc_cell": false,
   "toc_position": {
    "height": "calc(100% - 180px)",
    "left": "10px",
    "top": "150px",
    "width": "432.188px"
   },
   "toc_section_display": true,
   "toc_window_display": false
  }
 },
 "nbformat": 4,
 "nbformat_minor": 5
}
